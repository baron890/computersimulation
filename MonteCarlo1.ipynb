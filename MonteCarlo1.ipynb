{
 "cells": [
  {
   "cell_type": "markdown",
   "metadata": {},
   "source": [
    "YT: RandomMathsInc: Monte Carlo Method"
   ]
  },
  {
   "cell_type": "code",
   "execution_count": 16,
   "metadata": {},
   "outputs": [
    {
     "name": "stdout",
     "output_type": "stream",
     "text": [
      "2.659062031142479\n"
     ]
    }
   ],
   "source": [
    "import math\n",
    "import random\n",
    "\n",
    "def function (x) :\n",
    "    return math.log(x) / x\n",
    "    #Funktion einsetzten, welche integriert werden soll\n",
    "\n",
    "count = 0.0\n",
    "in_area = 0.0\n",
    "\n",
    "while count < 100000:\n",
    "\n",
    "    x_coord = random.uniform(1, 10)\n",
    "    #In den Grenzen von [1, 10]; X-Koordinaten Definitonsbereich \n",
    "    y_coord = random.uniform(0, 1/math.e)\n",
    "    #Mit [0, 1/e] Y-Koordinaten Wertebereich\n",
    "    \n",
    "    if y_coord < function(x_coord):\n",
    "        in_area += 1\n",
    "    count += 1\n",
    "\n",
    "area_box = 9 / math.e \n",
    "\n",
    "result = (in_area / count)*area_box\n",
    "\n",
    "print(result)\n"
   ]
  },
  {
   "cell_type": "markdown",
   "metadata": {},
   "source": [
    "YT: Andrew Dotson: Monte Carlo Integration in Python"
   ]
  },
  {
   "cell_type": "code",
   "execution_count": 17,
   "metadata": {},
   "outputs": [
    {
     "data": {
      "text/plain": [
       "Text(0.5, 0, 'Fläche')"
      ]
     },
     "execution_count": 17,
     "metadata": {},
     "output_type": "execute_result"
    },
    {
     "data": {
      "image/png": "[encoded data removed]",
      "text/plain": [
       "<Figure size 640x480 with 1 Axes>"
      ]
     },
     "metadata": {},
     "output_type": "display_data"
    }
   ],
   "source": [
    "%matplotlib inline\n",
    "import random \n",
    "import numpy as np\n",
    "import matplotlib.pyplot as plt\n",
    "\n",
    "a = 0 \n",
    "b = np.pi #limits of integration \n",
    "N = 1000 \n",
    "\n",
    "def func(x):\n",
    "    return np.sin(x) \n",
    "\n",
    "areas = [] \n",
    "\n",
    "for i in range(N):\n",
    "    xrand = np.zeros(N)\n",
    "\n",
    "    for i in range(len(xrand)):\n",
    "        xrand[i] = random.uniform(a, b) \n",
    "        integral = 0.0\n",
    "    \n",
    "    for i in range(N):\n",
    "        integral += func(xrand[i])\n",
    "\n",
    "    answer = (b-a)/float(N)*integral \n",
    "    #print(\"Das Integral von 0 bis pi von sin(x) ist:\", answer)\n",
    "    areas.append(answer)\n",
    "\n",
    "plt.title(\"Verteilung der bestimmten Flächen für sin(x)\")\n",
    "plt.hist(areas, bins = 30, ec = 'black')\n",
    "plt.xlabel(\"Fläche\")"
   ]
  },
  {
   "cell_type": "markdown",
   "metadata": {},
   "source": [
    "YT: Normalized Nerd: Markov Chains"
   ]
  },
  {
   "cell_type": "markdown",
   "metadata": {},
   "source": [
    "Zunnächste den Code laufen lassen!"
   ]
  },
  {
   "cell_type": "code",
   "execution_count": 22,
   "metadata": {},
   "outputs": [
    {
     "name": "stdout",
     "output_type": "stream",
     "text": [
      "Zustand A --> Zustand A --> Zustand A --> Zustand B --> stop\n"
     ]
    }
   ],
   "source": [
    "import numpy as np\n",
    "\n",
    "state = {\n",
    "    0 : \"Zustand A\",\n",
    "    1 : \"Zustand B\",\n",
    "    2 : \"Zusatnd C\"\n",
    "}\n",
    "\n",
    "A = np.array ([[0.2, 0.6, 0.2], [0.3, 0.0, 0.7], [0.5, 0.0, 0.5]])\n",
    "\n",
    "n = 4\n",
    "start_state = 0\n",
    "print(state[start_state], \"-->\", end=\" \")\n",
    "prev_state = start_state\n",
    "\n",
    "while n-1:\n",
    "    curr_state = np.random.choice([0,1,2], p=A[prev_state])\n",
    "    print(state[curr_state], \"-->\", end=\" \")\n",
    "    prev_state = curr_state\n",
    "    n-=1\n",
    "print(\"stop\")\n",
    "\n"
   ]
  },
  {
   "cell_type": "markdown",
   "metadata": {},
   "source": [
    "1 Ansatz: Mont Carlo "
   ]
  },
  {
   "cell_type": "code",
   "execution_count": 25,
   "metadata": {},
   "outputs": [
    {
     "name": "stdout",
     "output_type": "stream",
     "text": [
      "\\pi =  [0.351768 0.210831 0.437402]\n"
     ]
    }
   ],
   "source": [
    "steps = 10**6\n",
    "start_state = 0\n",
    "pi = np.array([0, 0, 0,])\n",
    "pi[start_state] = 1\n",
    "prev_state = start_state\n",
    "\n",
    "i = 0\n",
    "while i<steps:\n",
    "    curr_state = np.random.choice([0, 1, 2], p=A[prev_state])\n",
    "    pi[curr_state]+=1\n",
    "    prev_state = curr_state\n",
    "    i +=1\n",
    "\n",
    "print(\"\\pi = \", pi/steps)"
   ]
  },
  {
   "cell_type": "markdown",
   "metadata": {},
   "source": [
    "2 Ansatz: Wiederholte Matrix Multiplikation"
   ]
  },
  {
   "cell_type": "code",
   "execution_count": 28,
   "metadata": {},
   "outputs": [
    {
     "name": "stdout",
     "output_type": "stream",
     "text": [
      "A^n = \n",
      " [[0.35211268 0.21126761 0.43661972]\n",
      " [0.35211268 0.21126761 0.43661972]\n",
      " [0.35211268 0.21126761 0.43661972]] \n",
      "\n",
      "\\pi =  [0.35211268 0.21126761 0.43661972]\n"
     ]
    }
   ],
   "source": [
    "steps = 10**3\n",
    "A_n = A\n",
    "\n",
    "i = 0 \n",
    "while i<steps:\n",
    "    A_n = np.matmul(A_n, A)\n",
    "    i += 1\n",
    "\n",
    "print(\"A^n = \\n\", A_n, \"\\n\")\n",
    "print(\"\\pi = \", A_n[0])"
   ]
  },
  {
   "cell_type": "markdown",
   "metadata": {},
   "source": [
    "3 Ansatz: Linke Eigenvektoren"
   ]
  },
  {
   "cell_type": "code",
   "execution_count": 32,
   "metadata": {},
   "outputs": [
    {
     "name": "stdout",
     "output_type": "stream",
     "text": [
      "Linke Eigenvektoren = \n",
      " [[-0.58746336+0.j         -0.16984156-0.35355339j -0.16984156+0.35355339j]\n",
      " [-0.35247801+0.j          0.67936622+0.j          0.67936622-0.j        ]\n",
      " [-0.72845456+0.j         -0.50952467+0.35355339j -0.50952467-0.35355339j]] \n",
      "\n",
      "Eigenwerte = \n",
      " [ 1.  +0.j        -0.15+0.3122499j -0.15-0.3122499j]\n"
     ]
    },
    {
     "data": {
      "text/plain": [
       "[0.3521126760563379, 0.21126760563380298, 0.43661971830985913]"
      ]
     },
     "execution_count": 32,
     "metadata": {},
     "output_type": "execute_result"
    }
   ],
   "source": [
    "import scipy.linalg\n",
    "values, left = scipy.linalg.eig(A, right = False, left = True)\n",
    "\n",
    "print(\"Linke Eigenvektoren = \\n\", left, \"\\n\")\n",
    "print(\"Eigenwerte = \\n\", values)\n",
    "\n",
    "pi = left[:,0]\n",
    "pi_normalisiert = [(x/np.sum(pi)).real for x in pi]\n",
    "pi_normalisiert"
   ]
  }
 ],
 "metadata": {
  "kernelspec": {
   "display_name": "Python 3.10.5 64-bit",
   "language": "python",
   "name": "python3"
  },
  "language_info": {
   "codemirror_mode": {
    "name": "ipython",
    "version": 3
   },
   "file_extension": ".py",
   "mimetype": "text/x-python",
   "name": "python",
   "nbconvert_exporter": "python",
   "pygments_lexer": "ipython3",
   "version": "3.10.5"
  },
  "orig_nbformat": 4,
  "vscode": {
   "interpreter": {
    "hash": "26de051ba29f2982a8de78e945f0abaf191376122a1563185a90213a26c5da77"
   }
  }
 },
 "nbformat": 4,
 "nbformat_minor": 2
}
